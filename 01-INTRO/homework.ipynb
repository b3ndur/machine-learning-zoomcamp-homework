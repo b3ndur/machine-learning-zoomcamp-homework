{
 "cells": [
  {
   "cell_type": "code",
   "execution_count": 1,
   "id": "f0182da6-af9b-474b-b037-43221f7b5faa",
   "metadata": {},
   "outputs": [],
   "source": [
    "import numpy as np\n",
    "import pandas as pd\n",
    "\n",
    "from sklearn.preprocessing import StandardScaler\n",
    "from sklearn.linear_model import LinearRegression\n",
    "\n",
    "import matplotlib.pyplot as plt"
   ]
  },
  {
   "cell_type": "markdown",
   "id": "35cfe7f6-c481-40f6-a761-9647d2da7064",
   "metadata": {},
   "source": [
    "# Answer for Question 1"
   ]
  },
  {
   "cell_type": "code",
   "execution_count": 2,
   "id": "3835818a-7892-4750-b7d2-eb9326d933d5",
   "metadata": {},
   "outputs": [
    {
     "data": {
      "text/plain": [
       "'2.3.1'"
      ]
     },
     "execution_count": 2,
     "metadata": {},
     "output_type": "execute_result"
    }
   ],
   "source": [
    "pd.__version__"
   ]
  },
  {
   "cell_type": "markdown",
   "id": "ab58d10e-45d2-40c6-8407-d016c72d06d7",
   "metadata": {},
   "source": [
    "# Answer for Question 2"
   ]
  },
  {
   "cell_type": "code",
   "execution_count": 3,
   "id": "c3f171cc-8419-4ea7-9fe8-29d788e2705b",
   "metadata": {},
   "outputs": [],
   "source": [
    "df = pd.read_csv('https://raw.githubusercontent.com/alexeygrigorev/datasets/master/car_fuel_efficiency.csv')"
   ]
  },
  {
   "cell_type": "code",
   "execution_count": 4,
   "id": "6530e640-5f0e-462c-8bb9-a0a136c188ba",
   "metadata": {},
   "outputs": [
    {
     "data": {
      "text/html": [
       "<div>\n",
       "<style scoped>\n",
       "    .dataframe tbody tr th:only-of-type {\n",
       "        vertical-align: middle;\n",
       "    }\n",
       "\n",
       "    .dataframe tbody tr th {\n",
       "        vertical-align: top;\n",
       "    }\n",
       "\n",
       "    .dataframe thead th {\n",
       "        text-align: right;\n",
       "    }\n",
       "</style>\n",
       "<table border=\"1\" class=\"dataframe\">\n",
       "  <thead>\n",
       "    <tr style=\"text-align: right;\">\n",
       "      <th></th>\n",
       "      <th>engine_displacement</th>\n",
       "      <th>num_cylinders</th>\n",
       "      <th>horsepower</th>\n",
       "      <th>vehicle_weight</th>\n",
       "      <th>acceleration</th>\n",
       "      <th>model_year</th>\n",
       "      <th>origin</th>\n",
       "      <th>fuel_type</th>\n",
       "      <th>drivetrain</th>\n",
       "      <th>num_doors</th>\n",
       "      <th>fuel_efficiency_mpg</th>\n",
       "    </tr>\n",
       "  </thead>\n",
       "  <tbody>\n",
       "    <tr>\n",
       "      <th>0</th>\n",
       "      <td>170</td>\n",
       "      <td>3.0</td>\n",
       "      <td>159.0</td>\n",
       "      <td>3413.433759</td>\n",
       "      <td>17.7</td>\n",
       "      <td>2003</td>\n",
       "      <td>Europe</td>\n",
       "      <td>Gasoline</td>\n",
       "      <td>All-wheel drive</td>\n",
       "      <td>0.0</td>\n",
       "      <td>13.231729</td>\n",
       "    </tr>\n",
       "    <tr>\n",
       "      <th>1</th>\n",
       "      <td>130</td>\n",
       "      <td>5.0</td>\n",
       "      <td>97.0</td>\n",
       "      <td>3149.664934</td>\n",
       "      <td>17.8</td>\n",
       "      <td>2007</td>\n",
       "      <td>USA</td>\n",
       "      <td>Gasoline</td>\n",
       "      <td>Front-wheel drive</td>\n",
       "      <td>0.0</td>\n",
       "      <td>13.688217</td>\n",
       "    </tr>\n",
       "    <tr>\n",
       "      <th>2</th>\n",
       "      <td>170</td>\n",
       "      <td>NaN</td>\n",
       "      <td>78.0</td>\n",
       "      <td>3079.038997</td>\n",
       "      <td>15.1</td>\n",
       "      <td>2018</td>\n",
       "      <td>Europe</td>\n",
       "      <td>Gasoline</td>\n",
       "      <td>Front-wheel drive</td>\n",
       "      <td>0.0</td>\n",
       "      <td>14.246341</td>\n",
       "    </tr>\n",
       "    <tr>\n",
       "      <th>3</th>\n",
       "      <td>220</td>\n",
       "      <td>4.0</td>\n",
       "      <td>NaN</td>\n",
       "      <td>2542.392402</td>\n",
       "      <td>20.2</td>\n",
       "      <td>2009</td>\n",
       "      <td>USA</td>\n",
       "      <td>Diesel</td>\n",
       "      <td>All-wheel drive</td>\n",
       "      <td>2.0</td>\n",
       "      <td>16.912736</td>\n",
       "    </tr>\n",
       "    <tr>\n",
       "      <th>4</th>\n",
       "      <td>210</td>\n",
       "      <td>1.0</td>\n",
       "      <td>140.0</td>\n",
       "      <td>3460.870990</td>\n",
       "      <td>14.4</td>\n",
       "      <td>2009</td>\n",
       "      <td>Europe</td>\n",
       "      <td>Gasoline</td>\n",
       "      <td>All-wheel drive</td>\n",
       "      <td>2.0</td>\n",
       "      <td>12.488369</td>\n",
       "    </tr>\n",
       "    <tr>\n",
       "      <th>...</th>\n",
       "      <td>...</td>\n",
       "      <td>...</td>\n",
       "      <td>...</td>\n",
       "      <td>...</td>\n",
       "      <td>...</td>\n",
       "      <td>...</td>\n",
       "      <td>...</td>\n",
       "      <td>...</td>\n",
       "      <td>...</td>\n",
       "      <td>...</td>\n",
       "      <td>...</td>\n",
       "    </tr>\n",
       "    <tr>\n",
       "      <th>9699</th>\n",
       "      <td>140</td>\n",
       "      <td>5.0</td>\n",
       "      <td>164.0</td>\n",
       "      <td>2981.107371</td>\n",
       "      <td>17.3</td>\n",
       "      <td>2013</td>\n",
       "      <td>Europe</td>\n",
       "      <td>Diesel</td>\n",
       "      <td>Front-wheel drive</td>\n",
       "      <td>NaN</td>\n",
       "      <td>15.101802</td>\n",
       "    </tr>\n",
       "    <tr>\n",
       "      <th>9700</th>\n",
       "      <td>180</td>\n",
       "      <td>NaN</td>\n",
       "      <td>154.0</td>\n",
       "      <td>2439.525729</td>\n",
       "      <td>15.0</td>\n",
       "      <td>2004</td>\n",
       "      <td>USA</td>\n",
       "      <td>Gasoline</td>\n",
       "      <td>All-wheel drive</td>\n",
       "      <td>0.0</td>\n",
       "      <td>17.962326</td>\n",
       "    </tr>\n",
       "    <tr>\n",
       "      <th>9701</th>\n",
       "      <td>220</td>\n",
       "      <td>2.0</td>\n",
       "      <td>138.0</td>\n",
       "      <td>2583.471318</td>\n",
       "      <td>15.1</td>\n",
       "      <td>2008</td>\n",
       "      <td>USA</td>\n",
       "      <td>Diesel</td>\n",
       "      <td>All-wheel drive</td>\n",
       "      <td>-1.0</td>\n",
       "      <td>17.186587</td>\n",
       "    </tr>\n",
       "    <tr>\n",
       "      <th>9702</th>\n",
       "      <td>230</td>\n",
       "      <td>4.0</td>\n",
       "      <td>177.0</td>\n",
       "      <td>2905.527390</td>\n",
       "      <td>19.4</td>\n",
       "      <td>2011</td>\n",
       "      <td>USA</td>\n",
       "      <td>Diesel</td>\n",
       "      <td>Front-wheel drive</td>\n",
       "      <td>1.0</td>\n",
       "      <td>15.331551</td>\n",
       "    </tr>\n",
       "    <tr>\n",
       "      <th>9703</th>\n",
       "      <td>270</td>\n",
       "      <td>3.0</td>\n",
       "      <td>140.0</td>\n",
       "      <td>2908.043477</td>\n",
       "      <td>14.7</td>\n",
       "      <td>2005</td>\n",
       "      <td>Asia</td>\n",
       "      <td>Diesel</td>\n",
       "      <td>All-wheel drive</td>\n",
       "      <td>-1.0</td>\n",
       "      <td>14.884467</td>\n",
       "    </tr>\n",
       "  </tbody>\n",
       "</table>\n",
       "<p>9704 rows × 11 columns</p>\n",
       "</div>"
      ],
      "text/plain": [
       "      engine_displacement  num_cylinders  horsepower  vehicle_weight  \\\n",
       "0                     170            3.0       159.0     3413.433759   \n",
       "1                     130            5.0        97.0     3149.664934   \n",
       "2                     170            NaN        78.0     3079.038997   \n",
       "3                     220            4.0         NaN     2542.392402   \n",
       "4                     210            1.0       140.0     3460.870990   \n",
       "...                   ...            ...         ...             ...   \n",
       "9699                  140            5.0       164.0     2981.107371   \n",
       "9700                  180            NaN       154.0     2439.525729   \n",
       "9701                  220            2.0       138.0     2583.471318   \n",
       "9702                  230            4.0       177.0     2905.527390   \n",
       "9703                  270            3.0       140.0     2908.043477   \n",
       "\n",
       "      acceleration  model_year  origin fuel_type         drivetrain  \\\n",
       "0             17.7        2003  Europe  Gasoline    All-wheel drive   \n",
       "1             17.8        2007     USA  Gasoline  Front-wheel drive   \n",
       "2             15.1        2018  Europe  Gasoline  Front-wheel drive   \n",
       "3             20.2        2009     USA    Diesel    All-wheel drive   \n",
       "4             14.4        2009  Europe  Gasoline    All-wheel drive   \n",
       "...            ...         ...     ...       ...                ...   \n",
       "9699          17.3        2013  Europe    Diesel  Front-wheel drive   \n",
       "9700          15.0        2004     USA  Gasoline    All-wheel drive   \n",
       "9701          15.1        2008     USA    Diesel    All-wheel drive   \n",
       "9702          19.4        2011     USA    Diesel  Front-wheel drive   \n",
       "9703          14.7        2005    Asia    Diesel    All-wheel drive   \n",
       "\n",
       "      num_doors  fuel_efficiency_mpg  \n",
       "0           0.0            13.231729  \n",
       "1           0.0            13.688217  \n",
       "2           0.0            14.246341  \n",
       "3           2.0            16.912736  \n",
       "4           2.0            12.488369  \n",
       "...         ...                  ...  \n",
       "9699        NaN            15.101802  \n",
       "9700        0.0            17.962326  \n",
       "9701       -1.0            17.186587  \n",
       "9702        1.0            15.331551  \n",
       "9703       -1.0            14.884467  \n",
       "\n",
       "[9704 rows x 11 columns]"
      ]
     },
     "execution_count": 4,
     "metadata": {},
     "output_type": "execute_result"
    }
   ],
   "source": [
    "df"
   ]
  },
  {
   "cell_type": "code",
   "execution_count": 5,
   "id": "26e5e303-e472-4e2d-81f6-c2a507e2a017",
   "metadata": {},
   "outputs": [
    {
     "name": "stdout",
     "output_type": "stream",
     "text": [
      "Number of records count: (9704, 11)\n"
     ]
    }
   ],
   "source": [
    "print(\"Number of records count:\", df.shape)"
   ]
  },
  {
   "cell_type": "code",
   "execution_count": 6,
   "id": "7cb48101-5cdc-41d0-805e-5003e73631b5",
   "metadata": {},
   "outputs": [],
   "source": [
    "# expected_cols = [\n",
    "#     \"engine_displacement\",\"num_cylinders\",\"horsepower\",\"vehicle_weight\",\n",
    "#     \"acceleration\",\"model_year\",\"origin\",\"fuel_type\",\"drivetrain\",\n",
    "#     \"num_doors\",\"fuel_efficiency_mpg\"\n",
    "# ]"
   ]
  },
  {
   "cell_type": "markdown",
   "id": "0402cb36-d575-4462-8647-6ce7ab64ca49",
   "metadata": {},
   "source": [
    "# Answer for Question 3"
   ]
  },
  {
   "cell_type": "code",
   "execution_count": 7,
   "id": "08c54833-b7c4-44c8-81e8-9dac18226ca2",
   "metadata": {},
   "outputs": [
    {
     "name": "stdout",
     "output_type": "stream",
     "text": [
      "Number of 'fuel_type': 2\n"
     ]
    }
   ],
   "source": [
    "# print(\"Number of 'fuel_type':\", df[\"fuel_type\"].nunique(dropna=True))\n",
    "print(\"Number of 'fuel_type':\", df[\"fuel_type\"].nunique())"
   ]
  },
  {
   "cell_type": "markdown",
   "id": "f4a38f80-b903-4984-9bfb-a5bd8ff0ff90",
   "metadata": {},
   "source": [
    "# Answer for Question 4"
   ]
  },
  {
   "cell_type": "code",
   "execution_count": 8,
   "id": "8e60eb8b-464a-4483-afe6-1dbb950b2c2f",
   "metadata": {},
   "outputs": [
    {
     "name": "stdout",
     "output_type": "stream",
     "text": [
      "Number of columns with missing values: 4\n"
     ]
    }
   ],
   "source": [
    "print(\"Number of columns with missing values:\", int(df.isna().any().sum()))"
   ]
  },
  {
   "cell_type": "markdown",
   "id": "3f823739-f217-4c11-bc4b-03eaf32b3a43",
   "metadata": {},
   "source": [
    "# Answer for Question 5"
   ]
  },
  {
   "cell_type": "code",
   "execution_count": 12,
   "id": "e3a98917-bfb0-4983-a124-927f08c19534",
   "metadata": {},
   "outputs": [
    {
     "name": "stdout",
     "output_type": "stream",
     "text": [
      "Max mpg for Asia-only cars: 23.759\n"
     ]
    }
   ],
   "source": [
    "asia = df[df[\"origin\"] == \"Asia\"]\n",
    "asia_res = float(asia[\"fuel_efficiency_mpg\"].max())\n",
    "\n",
    "print(f\"Max mpg for Asia-only cars: {asia_res:.3f}\")"
   ]
  },
  {
   "cell_type": "markdown",
   "id": "14c705b4-5555-4d56-9207-582cd7df2966",
   "metadata": {},
   "source": [
    "# Answer for Question 6"
   ]
  },
  {
   "cell_type": "code",
   "execution_count": 13,
   "id": "d8cff04f-7f3f-4488-aeb0-715dcdee5987",
   "metadata": {},
   "outputs": [
    {
     "name": "stdout",
     "output_type": "stream",
     "text": [
      "Median horsepower BEFORE fill: 149.0\n",
      "Most frequent (mode) horsepower: 152.0\n",
      "Median horsepower AFTER fill : 152.0\n",
      "Answer: Yes, it increased\n"
     ]
    }
   ],
   "source": [
    "hp = df[\"horsepower\"]\n",
    "\n",
    "median_before = float(hp.median())\n",
    "\n",
    "hp_mode_series = hp.mode(dropna=True)\n",
    "if len(hp_mode_series) == 0:\n",
    "    hp_mode = np.nan\n",
    "else:\n",
    "    hp_mode = float(hp_mode_series.iloc[0])\n",
    "\n",
    "# fill with mode\n",
    "hp_filled = hp.fillna(hp_mode)\n",
    "\n",
    "median_after = float(hp_filled.median())\n",
    "\n",
    "if np.isclose(median_before, median_after, atol=1e-12, rtol=0):\n",
    "    direction = \"No\"\n",
    "elif median_after > median_before:\n",
    "    direction = \"Yes, it increased\"\n",
    "else:\n",
    "    direction = \"Yes, it decreased\"\n",
    "\n",
    "print(\"Median horsepower BEFORE fill:\", median_before)\n",
    "print(\"Most frequent (mode) horsepower:\", hp_mode)\n",
    "print(\"Median horsepower AFTER fill :\", median_after)\n",
    "print(\"Answer:\", direction)"
   ]
  },
  {
   "cell_type": "markdown",
   "id": "ebde4e66-1817-418e-a6d7-ae910125c475",
   "metadata": {},
   "source": [
    "# Answer for Question 7"
   ]
  },
  {
   "cell_type": "code",
   "execution_count": 16,
   "id": "b6d21258-b830-4a55-855e-e2a76650923c",
   "metadata": {},
   "outputs": [
    {
     "name": "stdout",
     "output_type": "stream",
     "text": [
      "x shape: (7, 2)\n",
      "XTX:\n",
      " [[62248334.33150762 41431216.5073268 ]\n",
      " [41431216.5073268  28373339.        ]]\n",
      "w: [0.01386421 0.5049067 ]\n",
      "Sum of weights: 0.5187709081074016\n"
     ]
    }
   ],
   "source": [
    "asia = df[df[\"origin\"] == \"Asia\"].copy()\n",
    "\n",
    "cols = [\"vehicle_weight\", \"model_year\"]\n",
    "asia_xy = asia[cols].dropna()\n",
    "\n",
    "asia_xy_7 = asia_xy.head(7)\n",
    "\n",
    "x = asia_xy_7.values.astype(float)\n",
    "\n",
    "XTX = x.T @ x\n",
    "\n",
    "# Invert XTX\n",
    "XTX_inv = np.linalg.inv(XTX)\n",
    "\n",
    "y = np.array([1100, 1300, 800, 900, 1000, 1100, 1200], dtype=float)\n",
    "\n",
    "w = XTX_inv @ x.T @ y  # shape (2,)\n",
    "\n",
    "sum_w = float(w.sum())\n",
    "\n",
    "print(\"x shape:\", x.shape)\n",
    "print(\"XTX:\\n\", XTX)\n",
    "print(\"w:\", w)\n",
    "print(\"Sum of weights:\", sum_w)"
   ]
  }
 ],
 "metadata": {
  "kernelspec": {
   "display_name": "Python 3 (ipykernel)",
   "language": "python",
   "name": "python3"
  },
  "language_info": {
   "codemirror_mode": {
    "name": "ipython",
    "version": 3
   },
   "file_extension": ".py",
   "mimetype": "text/x-python",
   "name": "python",
   "nbconvert_exporter": "python",
   "pygments_lexer": "ipython3",
   "version": "3.12.1"
  }
 },
 "nbformat": 4,
 "nbformat_minor": 5
}
